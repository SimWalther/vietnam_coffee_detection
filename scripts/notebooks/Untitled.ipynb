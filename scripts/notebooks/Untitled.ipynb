{
 "cells": [
  {
   "cell_type": "code",
   "execution_count": null,
   "id": "offshore-carry",
   "metadata": {},
   "outputs": [],
   "source": [
    "NB_PIXEL_AROUND = 4\n",
    "\n",
    "dataset_filename = \"Vietnam_2017_january_march\"\n",
    "\n",
    "dataset_args = dict(\n",
    "    labels = labels,\n",
    "    raster_paths = [DATA_ROOT_PATH + 'Vietnam_2017_january_march/merged.tif'],\n",
    "    labels_coordinates_list = [LABELS_COORDINATES],\n",
    "    nb_pixel_around = NB_PIXEL_AROUND,\n",
    ")\n",
    "\n",
    "dataset = make_dataset_from_raster_files(**dataset_args)\n",
    "\n",
    "# images have all the same shapes, take the shape of the first image\n",
    "image_width = len(dataset[0][1][0][0])\n",
    "image_height = len(dataset[0][1][0])\n",
    "image_depth = len(BANDS)\n",
    "nb_outputs = len(labels)\n",
    "\n",
    "spatial_cross_validation\n",
    "\n",
    "# Create model\n",
    "model = Sequential([\n",
    "    Rescaling(1./2**16, input_shape=(image_width, image_height, image_depth)),\n",
    "    Conv2D(filters=16, kernel_size=(3, 3), padding=\"same\", activation=\"relu\"),\n",
    "    Conv2D(filters=16, kernel_size=(3, 3), padding=\"same\", activation=\"relu\"),\n",
    "    MaxPooling2D(pool_size=(3, 3)),\n",
    "    Conv2D(filters=16, kernel_size=(2, 2), padding=\"same\", activation=\"relu\"),\n",
    "    Conv2D(filters=16, kernel_size=(2, 2), padding=\"same\", activation=\"relu\"),\n",
    "    Flatten(name='flat'),\n",
    "    Dense(256, activation='relu'),\n",
    "    Dropout(0.5),\n",
    "    Dense(nb_outputs, activation='softmax'),\n",
    "])\n",
    "\n",
    "mean_loss, mean_accuracy, histories, conf_matrix = spatial_cross_validation(model, dataset, BANDS, labels_names, 3, NB_TESTS)"
   ]
  }
 ],
 "metadata": {
  "kernelspec": {
   "display_name": "Python 3",
   "language": "python",
   "name": "python3"
  },
  "language_info": {
   "codemirror_mode": {
    "name": "ipython",
    "version": 3
   },
   "file_extension": ".py",
   "mimetype": "text/x-python",
   "name": "python",
   "nbconvert_exporter": "python",
   "pygments_lexer": "ipython3",
   "version": "3.7.7"
  }
 },
 "nbformat": 4,
 "nbformat_minor": 5
}
